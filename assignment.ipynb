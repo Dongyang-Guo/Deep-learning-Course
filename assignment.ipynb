{
 "cells": [
  {
   "cell_type": "code",
   "execution_count": 1,
   "id": "planned-british",
   "metadata": {},
   "outputs": [],
   "source": [
    "import tensorflow as tf\n",
    "import numpy as np\n",
    "import matplotlib.pyplot as plt"
   ]
  },
  {
   "cell_type": "markdown",
   "id": "significant-endorsement",
   "metadata": {},
   "source": [
    "## Download the fashion_mnist data"
   ]
  },
  {
   "cell_type": "code",
   "execution_count": 2,
   "id": "convertible-execution",
   "metadata": {},
   "outputs": [],
   "source": [
    "(X_train, y_train), (X_test, y_test) = tf.keras.datasets.fashion_mnist.load_data()"
   ]
  },
  {
   "cell_type": "markdown",
   "id": "functional-trout",
   "metadata": {},
   "source": [
    "## Visualize the data"
   ]
  },
  {
   "cell_type": "code",
   "execution_count": 3,
   "id": "voluntary-elevation",
   "metadata": {},
   "outputs": [
    {
     "name": "stdout",
     "output_type": "stream",
     "text": [
      "X train shape: (60000, 28, 28) y train shape: (60000,)\n",
      "60000 train set\n",
      "10000 test set\n",
      "y = 0 T-shirt/top\n"
     ]
    },
    {
     "data": {
      "text/plain": [
       "<matplotlib.image.AxesImage at 0x1e212c942c8>"
      ]
     },
     "execution_count": 3,
     "metadata": {},
     "output_type": "execute_result"
    },
    {
     "data": {
      "image/png": "[encoded data removed]",
      "text/plain": [
       "<Figure size 432x288 with 1 Axes>"
      ]
     },
     "metadata": {
      "needs_background": "light"
     },
     "output_type": "display_data"
    }
   ],
   "source": [
    "# Print training set shape - note there are 60,000 training data of image size of 28x28, 60,000 train labels)\n",
    "print(\"X train shape:\", X_train.shape, \"y train shape:\", y_train.shape)\n",
    "\n",
    "# Print the number of training and test datasets\n",
    "print(X_train.shape[0], 'train set')\n",
    "print(X_test.shape[0], 'test set')\n",
    "\n",
    "# Define the text labels\n",
    "fashion_mnist_labels = [\"T-shirt/top\",  # index 0\n",
    "                        \"Trouser\",      # index 1\n",
    "                        \"Pullover\",     # index 2 \n",
    "                        \"Dress\",        # index 3 \n",
    "                        \"Coat\",         # index 4\n",
    "                        \"Sandal\",       # index 5\n",
    "                        \"Shirt\",        # index 6 \n",
    "                        \"Sneaker\",      # index 7 \n",
    "                        \"Bag\",          # index 8 \n",
    "                        \"Ankle boot\"]   # index 9\n",
    "\n",
    "# Image index, you can pick any number between 0 and 59,999\n",
    "img_index = 1\n",
    "# y_train contains the lables, ranging from 0 to 9\n",
    "label_index = y_train[img_index]\n",
    "# Print the label\n",
    "print (\"y = \" + str(label_index) + \" \" +(fashion_mnist_labels[label_index]))\n",
    "# Show one of the images from the training dataset\n",
    "plt.imshow(X_train[img_index])"
   ]
  },
  {
   "cell_type": "markdown",
   "id": "persistent-crisis",
   "metadata": {},
   "source": [
    "## Data normalization"
   ]
  },
  {
   "cell_type": "markdown",
   "id": "pressed-preference",
   "metadata": {},
   "source": [
    "Normalize the data dimensions between 0 and 1"
   ]
  },
  {
   "cell_type": "code",
   "execution_count": 4,
   "id": "minute-participation",
   "metadata": {},
   "outputs": [],
   "source": [
    "X_train = X_train.astype('float32') / 255\n",
    "X_test = X_test.astype('float32') / 255"
   ]
  },
  {
   "cell_type": "code",
   "execution_count": 5,
   "id": "funded-sampling",
   "metadata": {},
   "outputs": [
    {
     "data": {
      "text/plain": [
       "1.0"
      ]
     },
     "execution_count": 5,
     "metadata": {},
     "output_type": "execute_result"
    }
   ],
   "source": [
    "X_train.max()"
   ]
  },
  {
   "cell_type": "markdown",
   "id": "motivated-devices",
   "metadata": {},
   "source": [
    "## Split the data into train/validation/test data sets\n",
    "\n",
    "\n",
    "*   Training data - used for training the model\n",
    "*   Validation data - used for tuning the hyperparameters and evaluate the models\n",
    "*   Test data - used to test the model after the model has gone through initial vetting by the validation set.\n"
   ]
  },
  {
   "cell_type": "code",
   "execution_count": 6,
   "id": "stable-architect",
   "metadata": {},
   "outputs": [
    {
     "name": "stdout",
     "output_type": "stream",
     "text": [
      "x_train shape: (55000, 28, 28, 1) y_train shape: (55000, 10)\n",
      "55000 train set\n",
      "5000 validation set\n",
      "10000 test set\n"
     ]
    }
   ],
   "source": [
    "# Further break training data into train / validation sets (# put 5000 into validation set and keep remaining 55,000 for train)\n",
    "X_train, X_valid = X_train[5000:], X_train[:5000] \n",
    "y_train, y_valid = y_train[5000:], y_train[:5000]\n",
    "\n",
    "# Reshape input data from (28, 28) to (28, 28, 1)\n",
    "w, h = 28, 28\n",
    "X_train = X_train.reshape(X_train.shape[0], w, h, 1)\n",
    "X_valid = X_valid.reshape(X_valid.shape[0], w, h, 1)\n",
    "X_test = X_test.reshape(X_test.shape[0], w, h, 1)\n",
    "\n",
    "# One-hot encode the labels\n",
    "y_train = tf.keras.utils.to_categorical(y_train, 10)\n",
    "y_valid = tf.keras.utils.to_categorical(y_valid, 10)\n",
    "y_test = tf.keras.utils.to_categorical(y_test, 10)\n",
    "\n",
    "# Print training set shape\n",
    "print(\"x_train shape:\", X_train.shape, \"y_train shape:\", y_train.shape)\n",
    "\n",
    "# Print the number of training, validation, and test datasets\n",
    "print(X_train.shape[0], 'train set')\n",
    "print(X_valid.shape[0], 'validation set')\n",
    "print(X_test.shape[0], 'test set')"
   ]
  },
  {
   "cell_type": "markdown",
   "id": "rising-bhutan",
   "metadata": {},
   "source": [
    "## Create the baseline"
   ]
  },
  {
   "cell_type": "code",
   "execution_count": 7,
   "id": "humanitarian-teacher",
   "metadata": {},
   "outputs": [
    {
     "name": "stdout",
     "output_type": "stream",
     "text": [
      "Model: \"sequential\"\n",
      "_________________________________________________________________\n",
      "Layer (type)                 Output Shape              Param #   \n",
      "=================================================================\n",
      "conv2d (Conv2D)              (None, 28, 28, 64)        320       \n",
      "_________________________________________________________________\n",
      "max_pooling2d (MaxPooling2D) (None, 14, 14, 64)        0         \n",
      "_________________________________________________________________\n",
      "dropout (Dropout)            (None, 14, 14, 64)        0         \n",
      "_________________________________________________________________\n",
      "conv2d_1 (Conv2D)            (None, 14, 14, 32)        8224      \n",
      "_________________________________________________________________\n",
      "max_pooling2d_1 (MaxPooling2 (None, 7, 7, 32)          0         \n",
      "_________________________________________________________________\n",
      "dropout_1 (Dropout)          (None, 7, 7, 32)          0         \n",
      "_________________________________________________________________\n",
      "flatten (Flatten)            (None, 1568)              0         \n",
      "_________________________________________________________________\n",
      "dense (Dense)                (None, 256)               401664    \n",
      "_________________________________________________________________\n",
      "dense_1 (Dense)              (None, 10)                2570      \n",
      "=================================================================\n",
      "Total params: 412,778\n",
      "Trainable params: 412,778\n",
      "Non-trainable params: 0\n",
      "_________________________________________________________________\n"
     ]
    }
   ],
   "source": [
    "model = tf.keras.Sequential()\n",
    "\n",
    "# Must define the input shape in the first layer of the neural network\n",
    "model.add(tf.keras.layers.Conv2D(filters=64, kernel_size=2, padding='same', activation='relu', input_shape=(28,28,1))) \n",
    "model.add(tf.keras.layers.MaxPooling2D(pool_size=2))\n",
    "model.add(tf.keras.layers.Dropout(0.3))\n",
    "\n",
    "model.add(tf.keras.layers.Conv2D(filters=32, kernel_size=2, padding='same', activation='relu'))\n",
    "model.add(tf.keras.layers.MaxPooling2D(pool_size=2))\n",
    "model.add(tf.keras.layers.Dropout(0.3))\n",
    "\n",
    "model.add(tf.keras.layers.Flatten())\n",
    "model.add(tf.keras.layers.Dense(256, activation='relu'))\n",
    "model.add(tf.keras.layers.Dense(10, activation='softmax'))\n",
    "\n",
    "# Take a look at the model summary\n",
    "model.summary()"
   ]
  },
  {
   "cell_type": "markdown",
   "id": "mounted-bundle",
   "metadata": {},
   "source": [
    "## Compile the model\n",
    "Configure the learning process with compile() API before training the model. It receives three arguments:\n",
    "\n",
    "*   An optimizer \n",
    "*   A loss function \n",
    "*   A list of metrics \n"
   ]
  },
  {
   "cell_type": "code",
   "execution_count": 8,
   "id": "surface-ireland",
   "metadata": {},
   "outputs": [],
   "source": [
    "model.compile(loss='categorical_crossentropy',\n",
    "             optimizer='adam',\n",
    "             metrics=['accuracy'])"
   ]
  },
  {
   "cell_type": "markdown",
   "id": "approximate-shower",
   "metadata": {
    "colab_type": "text",
    "id": "DtOvh3YVZZg_"
   },
   "source": [
    "## Train the model\n",
    "\n",
    "Now let's train the model with fit() API.\n",
    "\n",
    "We use  the [ModelCheckpoint](https://keras.io/callbacks/#modelcheckpoint) API to save the model after every epoch. Set \"save_best_only = True\" to save only when the validation accuracy improves.\n"
   ]
  },
  {
   "cell_type": "code",
   "execution_count": 9,
   "id": "boxed-algeria",
   "metadata": {
    "colab": {},
    "colab_type": "code",
    "id": "ZTmapAttZZhA"
   },
   "outputs": [
    {
     "name": "stdout",
     "output_type": "stream",
     "text": [
      "Epoch 1/10\n",
      "859/860 [============================>.] - ETA: 0s - loss: 0.5319 - accuracy: 0.8057\n",
      "Epoch 00001: val_loss improved from inf to 0.38285, saving model to model.weights.best.hdf5\n",
      "860/860 [==============================] - 36s 41ms/step - loss: 0.5318 - accuracy: 0.8057 - val_loss: 0.3828 - val_accuracy: 0.8606\n",
      "Epoch 2/10\n",
      "860/860 [==============================] - ETA: 0s - loss: 0.3662 - accuracy: 0.8658\n",
      "Epoch 00002: val_loss improved from 0.38285 to 0.30663, saving model to model.weights.best.hdf5\n",
      "860/860 [==============================] - 169s 196ms/step - loss: 0.3662 - accuracy: 0.8658 - val_loss: 0.3066 - val_accuracy: 0.8918\n",
      "Epoch 3/10\n",
      "860/860 [==============================] - ETA: 0s - loss: 0.3232 - accuracy: 0.8809\n",
      "Epoch 00003: val_loss improved from 0.30663 to 0.27763, saving model to model.weights.best.hdf5\n",
      "860/860 [==============================] - 34s 40ms/step - loss: 0.3232 - accuracy: 0.8809 - val_loss: 0.2776 - val_accuracy: 0.8974\n",
      "Epoch 4/10\n",
      "859/860 [============================>.] - ETA: 0s - loss: 0.2912 - accuracy: 0.8923\n",
      "Epoch 00004: val_loss improved from 0.27763 to 0.26277, saving model to model.weights.best.hdf5\n",
      "860/860 [==============================] - 39s 46ms/step - loss: 0.2912 - accuracy: 0.8923 - val_loss: 0.2628 - val_accuracy: 0.9044\n",
      "Epoch 5/10\n",
      "860/860 [==============================] - ETA: 0s - loss: 0.2699 - accuracy: 0.9007\n",
      "Epoch 00005: val_loss improved from 0.26277 to 0.26210, saving model to model.weights.best.hdf5\n",
      "860/860 [==============================] - 42s 49ms/step - loss: 0.2699 - accuracy: 0.9007 - val_loss: 0.2621 - val_accuracy: 0.8996\n",
      "Epoch 6/10\n",
      "860/860 [==============================] - ETA: 0s - loss: 0.2523 - accuracy: 0.9064 ETA: 0s - loss: 0.252\n",
      "Epoch 00006: val_loss improved from 0.26210 to 0.23009, saving model to model.weights.best.hdf5\n",
      "860/860 [==============================] - 39s 46ms/step - loss: 0.2523 - accuracy: 0.9064 - val_loss: 0.2301 - val_accuracy: 0.9158\n",
      "Epoch 7/10\n",
      "860/860 [==============================] - ETA: 0s - loss: 0.2356 - accuracy: 0.9125\n",
      "Epoch 00007: val_loss improved from 0.23009 to 0.22894, saving model to model.weights.best.hdf5\n",
      "860/860 [==============================] - 40s 47ms/step - loss: 0.2356 - accuracy: 0.9125 - val_loss: 0.2289 - val_accuracy: 0.9146\n",
      "Epoch 8/10\n",
      "859/860 [============================>.] - ETA: 0s - loss: 0.2259 - accuracy: 0.9152\n",
      "Epoch 00008: val_loss did not improve from 0.22894\n",
      "860/860 [==============================] - 41s 48ms/step - loss: 0.2260 - accuracy: 0.9151 - val_loss: 0.2298 - val_accuracy: 0.9146\n",
      "Epoch 9/10\n",
      "860/860 [==============================] - ETA: 0s - loss: 0.2155 - accuracy: 0.9201 ETA: 0s - loss: 0.2155 - accuracy: 0.92\n",
      "Epoch 00009: val_loss improved from 0.22894 to 0.22257, saving model to model.weights.best.hdf5\n",
      "860/860 [==============================] - 41s 48ms/step - loss: 0.2155 - accuracy: 0.9201 - val_loss: 0.2226 - val_accuracy: 0.9170\n",
      "Epoch 10/10\n",
      "860/860 [==============================] - ETA: 0s - loss: 0.2050 - accuracy: 0.9234\n",
      "Epoch 00010: val_loss improved from 0.22257 to 0.21275, saving model to model.weights.best.hdf5\n",
      "860/860 [==============================] - 41s 48ms/step - loss: 0.2050 - accuracy: 0.9234 - val_loss: 0.2128 - val_accuracy: 0.9204\n"
     ]
    },
    {
     "data": {
      "text/plain": [
       "<tensorflow.python.keras.callbacks.History at 0x1e20de6e908>"
      ]
     },
     "execution_count": 9,
     "metadata": {},
     "output_type": "execute_result"
    }
   ],
   "source": [
    "from tensorflow.keras.callbacks import ModelCheckpoint\n",
    "\n",
    "checkpointer = ModelCheckpoint(filepath='model.weights.best.hdf5', verbose = 1, save_best_only=True)\n",
    "model.fit(X_train,\n",
    "         y_train,\n",
    "         batch_size=64,\n",
    "         epochs=10,\n",
    "         validation_data=(X_valid, y_valid),\n",
    "         callbacks=[checkpointer])"
   ]
  },
  {
   "cell_type": "code",
   "execution_count": null,
   "id": "abandoned-contributor",
   "metadata": {},
   "outputs": [],
   "source": []
  },
  {
   "cell_type": "markdown",
   "id": "floppy-radius",
   "metadata": {
    "colab_type": "text",
    "id": "e-MGLwZQy05d"
   },
   "source": [
    "## Load Model with the best validation accuracy"
   ]
  },
  {
   "cell_type": "code",
   "execution_count": 10,
   "id": "appreciated-auckland",
   "metadata": {
    "colab": {},
    "colab_type": "code",
    "id": "UD1tecxUZZhE"
   },
   "outputs": [],
   "source": [
    "# Load the weights with the best validation accuracy\n",
    "model.load_weights('model.weights.best.hdf5')"
   ]
  },
  {
   "cell_type": "markdown",
   "id": "going-russell",
   "metadata": {
    "colab_type": "text",
    "id": "9RTRkan4yq5H"
   },
   "source": [
    "## Test Accuracy"
   ]
  },
  {
   "cell_type": "code",
   "execution_count": 11,
   "id": "wanted-wings",
   "metadata": {
    "colab": {},
    "colab_type": "code",
    "id": "VZtqBqFFy62R"
   },
   "outputs": [
    {
     "name": "stdout",
     "output_type": "stream",
     "text": [
      "\n",
      " Test accuracy: 0.914900004863739\n"
     ]
    }
   ],
   "source": [
    "# Evaluate the model on test set\n",
    "score = model.evaluate(X_test, y_test, verbose=0)\n",
    "\n",
    "# Print test accuracy\n",
    "print('\\n', 'Test accuracy:', score[1])"
   ]
  },
  {
   "cell_type": "markdown",
   "id": "breathing-adjustment",
   "metadata": {},
   "source": [
    "## Results Dict\n",
    "用个字典记录结果"
   ]
  },
  {
   "cell_type": "code",
   "execution_count": 26,
   "id": "british-grade",
   "metadata": {},
   "outputs": [],
   "source": [
    "import pandas as pd"
   ]
  },
  {
   "cell_type": "code",
   "execution_count": 12,
   "id": "indian-magazine",
   "metadata": {},
   "outputs": [],
   "source": [
    "results_dict = {}\n",
    "base_params = [(64,2),(32,2), (0.3,0.3)]  # 基础模型参数\n",
    "results_dict['baseline'] = {'parameters':base_params,'accuracy':score[1]}"
   ]
  },
  {
   "cell_type": "markdown",
   "id": "assured-lewis",
   "metadata": {
    "colab_type": "text",
    "id": "oJv7XEk10bOv"
   },
   "source": [
    "## Visualize prediction\n",
    "Now let's visualize the prediction using the model you just trained. \n",
    "First we get the predictions with the model from the test data.\n",
    "Then we print out 15 images from the test data set, and set the titles with the prediction (and the groud truth label).\n",
    "If the prediction matches the true label, the title will be green; otherwise it's displayed in red."
   ]
  },
  {
   "cell_type": "code",
   "execution_count": 13,
   "id": "measured-arbor",
   "metadata": {
    "colab": {},
    "colab_type": "code",
    "id": "QwNmlfIC0YxM"
   },
   "outputs": [
    {
     "data": {
      "image/png": "[encoded data removed]",
      "text/plain": [
       "<Figure size 1440x576 with 15 Axes>"
      ]
     },
     "metadata": {},
     "output_type": "display_data"
    }
   ],
   "source": [
    "y_hat = model.predict(X_test)\n",
    "\n",
    "# Plot a random sample of 10 test images, their predicted labels and ground truth\n",
    "figure = plt.figure(figsize=(20, 8))\n",
    "for i, index in enumerate(np.random.choice(X_test.shape[0], size=15, replace=False)):\n",
    "    ax = figure.add_subplot(3, 5, i + 1, xticks=[], yticks=[])\n",
    "    # Display each image\n",
    "    ax.imshow(np.squeeze(X_test[index]))\n",
    "    predict_index = np.argmax(y_hat[index])\n",
    "    true_index = np.argmax(y_test[index])\n",
    "    # Set the title for each image\n",
    "    ax.set_title(\"{} ({})\".format(fashion_mnist_labels[predict_index], \n",
    "                                  fashion_mnist_labels[true_index]),\n",
    "                                  color=(\"green\" if predict_index == true_index else \"red\"))"
   ]
  },
  {
   "cell_type": "markdown",
   "id": "second-ceramic",
   "metadata": {},
   "source": [
    "## Architecture Comparison"
   ]
  },
  {
   "cell_type": "code",
   "execution_count": 22,
   "id": "settled-single",
   "metadata": {},
   "outputs": [],
   "source": [
    "# 为了能够快速地实现最后的结果,构建函数\n",
    "from tensorflow.python.framework import ops\n",
    "def getcnnresult(modelname,baselayer,extralayer = None,kernels_poolings =(2,2)):\n",
    "    \n",
    "    ops.reset_default_graph() # 加载新模型前把老的删掉，防止越来越慢\n",
    "    print( 'Model Name:',modelname)\n",
    "    filters1,kernels_convolution1= baselayer[0]\n",
    "    filters2,kernels_convolution2 = baselayer[1]\n",
    "    droupout1,dropout2 = baselayer[2]\n",
    "    kernels_pooling1,kernels_pooling2 = kernels_poolings   \n",
    "    model = tf.keras.Sequential()\n",
    "    model.add(tf.keras.layers.Conv2D(filters=filters1, kernel_size=kernels_convolution1, padding='same', activation='relu', input_shape=(28,28,1))) \n",
    "    model.add(tf.keras.layers.MaxPooling2D(pool_size=kernels_pooling1 ))\n",
    "    model.add(tf.keras.layers.Dropout(droupout1))\n",
    "    model.add(tf.keras.layers.Conv2D(filters=filters2, kernel_size=kernels_convolution2, padding='same', activation='relu'))\n",
    "    model.add(tf.keras.layers.MaxPooling2D(pool_size=kernels_pooling2 ))\n",
    "    model.add(tf.keras.layers.Dropout(dropout2))\n",
    "    if extralayer:\n",
    "        filters1,kernels_convolution1  = extralayer[0]\n",
    "        filters2,kernels_convolution2= extralayer[1]\n",
    "        droupout1,dropout2 = extralayer[2]\n",
    "        model.add(tf.keras.layers.Conv2D(filters=filters1, kernel_size=kernels_convolution1, padding='same', activation='relu')) \n",
    "        model.add(tf.keras.layers.MaxPooling2D(pool_size=kernels_pooling1 ))\n",
    "        model.add(tf.keras.layers.Dropout(droupout1))\n",
    "        model.add(tf.keras.layers.Conv2D(filters=filters2, kernel_size=kernels_convolution2, padding='same', activation='relu'))\n",
    "        model.add(tf.keras.layers.MaxPooling2D(pool_size=kernels_pooling2))\n",
    "        model.add(tf.keras.layers.Dropout(dropout2))\n",
    "    model.add(tf.keras.layers.Flatten())\n",
    "    model.add(tf.keras.layers.Dense(256, activation='relu'))\n",
    "    model.add(tf.keras.layers.Dense(10, activation='softmax'))\n",
    "    # Take a look at the model summary\n",
    "    model.summary()\n",
    "    model.compile(loss='categorical_crossentropy',\n",
    "             optimizer='adam',\n",
    "             metrics=['accuracy'])\n",
    "    checkpointer = ModelCheckpoint(filepath='{}.weights.best.hdf5'.format(modelname), verbose = 0, save_best_only=True)\n",
    "    model.fit(X_train,\n",
    "             y_train,\n",
    "             batch_size=64,\n",
    "             epochs=10,\n",
    "             validation_data=(X_valid, y_valid),\n",
    "             callbacks=[checkpointer])\n",
    "    model.load_weights('{}.weights.best.hdf5'.format(modelname))\n",
    "    score = model.evaluate(X_test, y_test, verbose=0)\n",
    "    # Print test accuracy\n",
    "    print('\\n', 'Test accuracy:', score[1])\n",
    "    return score[1]"
   ]
  },
  {
   "cell_type": "markdown",
   "id": "elegant-incidence",
   "metadata": {},
   "source": [
    "### Combination of number of filters for (32,16)"
   ]
  },
  {
   "cell_type": "code",
   "execution_count": 15,
   "id": "frozen-destination",
   "metadata": {},
   "outputs": [
    {
     "name": "stdout",
     "output_type": "stream",
     "text": [
      "Model Name: Architecture 1\n",
      "Model: \"sequential\"\n",
      "_________________________________________________________________\n",
      "Layer (type)                 Output Shape              Param #   \n",
      "=================================================================\n",
      "conv2d (Conv2D)              (None, 28, 28, 32)        160       \n",
      "_________________________________________________________________\n",
      "max_pooling2d (MaxPooling2D) (None, 14, 14, 32)        0         \n",
      "_________________________________________________________________\n",
      "dropout (Dropout)            (None, 14, 14, 32)        0         \n",
      "_________________________________________________________________\n",
      "conv2d_1 (Conv2D)            (None, 14, 14, 16)        2064      \n",
      "_________________________________________________________________\n",
      "max_pooling2d_1 (MaxPooling2 (None, 7, 7, 16)          0         \n",
      "_________________________________________________________________\n",
      "dropout_1 (Dropout)          (None, 7, 7, 16)          0         \n",
      "_________________________________________________________________\n",
      "flatten (Flatten)            (None, 784)               0         \n",
      "_________________________________________________________________\n",
      "dense (Dense)                (None, 256)               200960    \n",
      "_________________________________________________________________\n",
      "dense_1 (Dense)              (None, 10)                2570      \n",
      "=================================================================\n",
      "Total params: 205,754\n",
      "Trainable params: 205,754\n",
      "Non-trainable params: 0\n",
      "_________________________________________________________________\n",
      "Epoch 1/10\n",
      "860/860 [==============================] - 23s 27ms/step - loss: 0.5918 - accuracy: 0.7795 - val_loss: 0.4043 - val_accuracy: 0.8630\n",
      "Epoch 2/10\n",
      "860/860 [==============================] - 22s 25ms/step - loss: 0.4245 - accuracy: 0.8448 - val_loss: 0.3481 - val_accuracy: 0.8782\n",
      "Epoch 3/10\n",
      "860/860 [==============================] - 22s 25ms/step - loss: 0.3729 - accuracy: 0.8628 - val_loss: 0.3152 - val_accuracy: 0.8866\n",
      "Epoch 4/10\n",
      "860/860 [==============================] - 22s 26ms/step - loss: 0.3403 - accuracy: 0.8735 - val_loss: 0.2984 - val_accuracy: 0.8886\n",
      "Epoch 5/10\n",
      "860/860 [==============================] - 22s 26ms/step - loss: 0.3207 - accuracy: 0.8816 - val_loss: 0.2762 - val_accuracy: 0.8982\n",
      "Epoch 6/10\n",
      "860/860 [==============================] - 22s 26ms/step - loss: 0.3028 - accuracy: 0.8880 - val_loss: 0.2634 - val_accuracy: 0.9010\n",
      "Epoch 7/10\n",
      "860/860 [==============================] - 22s 26ms/step - loss: 0.2896 - accuracy: 0.8933 - val_loss: 0.2554 - val_accuracy: 0.9070\n",
      "Epoch 8/10\n",
      "860/860 [==============================] - 22s 26ms/step - loss: 0.2803 - accuracy: 0.8962 - val_loss: 0.2481 - val_accuracy: 0.9108\n",
      "Epoch 9/10\n",
      "860/860 [==============================] - 22s 26ms/step - loss: 0.2681 - accuracy: 0.9001 - val_loss: 0.2525 - val_accuracy: 0.9052\n",
      "Epoch 10/10\n",
      "860/860 [==============================] - 22s 26ms/step - loss: 0.2589 - accuracy: 0.9041 - val_loss: 0.2620 - val_accuracy: 0.9026\n",
      "\n",
      " Test accuracy: 0.9039999842643738\n"
     ]
    }
   ],
   "source": [
    "params1 = [(32,2),(16,2),(0.3,0.3)]\n",
    "model_name = 'Architecture 1'\n",
    "test_score = getcnnresult(model_name,params1)\n",
    "results_dict[model_name] = {'parameters':params1 ,'accuracy':test_score}"
   ]
  },
  {
   "cell_type": "code",
   "execution_count": 36,
   "id": "outdoor-landing",
   "metadata": {},
   "outputs": [
    {
     "data": {
      "text/plain": [
       "[(64, 2), (32, 2), (0.3, 0.3)]"
      ]
     },
     "execution_count": 36,
     "metadata": {},
     "output_type": "execute_result"
    }
   ],
   "source": [
    "base_params"
   ]
  },
  {
   "cell_type": "markdown",
   "id": "compliant-worth",
   "metadata": {},
   "source": [
    "### Combination of number of filters for (64,64)"
   ]
  },
  {
   "cell_type": "code",
   "execution_count": 16,
   "id": "herbal-quality",
   "metadata": {},
   "outputs": [
    {
     "name": "stdout",
     "output_type": "stream",
     "text": [
      "Model Name: Architecture 2\n",
      "Model: \"sequential\"\n",
      "_________________________________________________________________\n",
      "Layer (type)                 Output Shape              Param #   \n",
      "=================================================================\n",
      "conv2d (Conv2D)              (None, 28, 28, 64)        320       \n",
      "_________________________________________________________________\n",
      "max_pooling2d (MaxPooling2D) (None, 14, 14, 64)        0         \n",
      "_________________________________________________________________\n",
      "dropout (Dropout)            (None, 14, 14, 64)        0         \n",
      "_________________________________________________________________\n",
      "conv2d_1 (Conv2D)            (None, 14, 14, 64)        16448     \n",
      "_________________________________________________________________\n",
      "max_pooling2d_1 (MaxPooling2 (None, 7, 7, 64)          0         \n",
      "_________________________________________________________________\n",
      "dropout_1 (Dropout)          (None, 7, 7, 64)          0         \n",
      "_________________________________________________________________\n",
      "flatten (Flatten)            (None, 3136)              0         \n",
      "_________________________________________________________________\n",
      "dense (Dense)                (None, 256)               803072    \n",
      "_________________________________________________________________\n",
      "dense_1 (Dense)              (None, 10)                2570      \n",
      "=================================================================\n",
      "Total params: 822,410\n",
      "Trainable params: 822,410\n",
      "Non-trainable params: 0\n",
      "_________________________________________________________________\n",
      "Epoch 1/10\n",
      "860/860 [==============================] - 49s 57ms/step - loss: 0.4981 - accuracy: 0.8193 - val_loss: 0.3623 - val_accuracy: 0.8738\n",
      "Epoch 2/10\n",
      "860/860 [==============================] - 50s 58ms/step - loss: 0.3439 - accuracy: 0.8745 - val_loss: 0.2840 - val_accuracy: 0.8982\n",
      "Epoch 3/10\n",
      "860/860 [==============================] - 49s 57ms/step - loss: 0.2956 - accuracy: 0.8913 - val_loss: 0.2779 - val_accuracy: 0.8992\n",
      "Epoch 4/10\n",
      "860/860 [==============================] - 49s 57ms/step - loss: 0.2667 - accuracy: 0.9009 - val_loss: 0.2520 - val_accuracy: 0.9070\n",
      "Epoch 5/10\n",
      "860/860 [==============================] - 49s 57ms/step - loss: 0.2452 - accuracy: 0.9091 - val_loss: 0.2317 - val_accuracy: 0.9176\n",
      "Epoch 6/10\n",
      "860/860 [==============================] - 50s 58ms/step - loss: 0.2303 - accuracy: 0.9145 - val_loss: 0.2208 - val_accuracy: 0.9196\n",
      "Epoch 7/10\n",
      "860/860 [==============================] - 50s 58ms/step - loss: 0.2141 - accuracy: 0.9203 - val_loss: 0.2420 - val_accuracy: 0.9092\n",
      "Epoch 8/10\n",
      "860/860 [==============================] - 50s 58ms/step - loss: 0.2017 - accuracy: 0.9237 - val_loss: 0.2057 - val_accuracy: 0.9240\n",
      "Epoch 9/10\n",
      "860/860 [==============================] - 50s 58ms/step - loss: 0.1870 - accuracy: 0.9294 - val_loss: 0.2024 - val_accuracy: 0.9276\n",
      "Epoch 10/10\n",
      "860/860 [==============================] - 50s 58ms/step - loss: 0.1756 - accuracy: 0.9335 - val_loss: 0.2083 - val_accuracy: 0.9236\n",
      "\n",
      " Test accuracy: 0.9182000160217285\n"
     ]
    }
   ],
   "source": [
    "params2 = [(64,2),(64,2),(0.3,0.3)]\n",
    "model_name = 'Architecture 2'\n",
    "test_score = getcnnresult(model_name,params2)\n",
    "results_dict[model_name] = {'parameters':params2 ,'accuracy':test_score}"
   ]
  },
  {
   "cell_type": "code",
   "execution_count": null,
   "id": "accepted-blair",
   "metadata": {},
   "outputs": [],
   "source": [
    "params1"
   ]
  },
  {
   "cell_type": "markdown",
   "id": "parliamentary-british",
   "metadata": {},
   "source": [
    "### Combination of combinations of kernels for (5, 3)"
   ]
  },
  {
   "cell_type": "code",
   "execution_count": 17,
   "id": "defensive-proposal",
   "metadata": {},
   "outputs": [
    {
     "name": "stdout",
     "output_type": "stream",
     "text": [
      "Model Name: Architecture 3\n",
      "Model: \"sequential\"\n",
      "_________________________________________________________________\n",
      "Layer (type)                 Output Shape              Param #   \n",
      "=================================================================\n",
      "conv2d (Conv2D)              (None, 28, 28, 64)        1664      \n",
      "_________________________________________________________________\n",
      "max_pooling2d (MaxPooling2D) (None, 14, 14, 64)        0         \n",
      "_________________________________________________________________\n",
      "dropout (Dropout)            (None, 14, 14, 64)        0         \n",
      "_________________________________________________________________\n",
      "conv2d_1 (Conv2D)            (None, 14, 14, 32)        18464     \n",
      "_________________________________________________________________\n",
      "max_pooling2d_1 (MaxPooling2 (None, 7, 7, 32)          0         \n",
      "_________________________________________________________________\n",
      "dropout_1 (Dropout)          (None, 7, 7, 32)          0         \n",
      "_________________________________________________________________\n",
      "flatten (Flatten)            (None, 1568)              0         \n",
      "_________________________________________________________________\n",
      "dense (Dense)                (None, 256)               401664    \n",
      "_________________________________________________________________\n",
      "dense_1 (Dense)              (None, 10)                2570      \n",
      "=================================================================\n",
      "Total params: 424,362\n",
      "Trainable params: 424,362\n",
      "Non-trainable params: 0\n",
      "_________________________________________________________________\n",
      "Epoch 1/10\n",
      "860/860 [==============================] - 57s 66ms/step - loss: 0.5072 - accuracy: 0.8152 - val_loss: 0.3480 - val_accuracy: 0.8806\n",
      "Epoch 2/10\n",
      "860/860 [==============================] - 56s 66ms/step - loss: 0.3403 - accuracy: 0.8763 - val_loss: 0.2981 - val_accuracy: 0.8900\n",
      "Epoch 3/10\n",
      "860/860 [==============================] - 58s 68ms/step - loss: 0.2982 - accuracy: 0.8895 - val_loss: 0.2702 - val_accuracy: 0.9014\n",
      "Epoch 4/10\n",
      "860/860 [==============================] - 28349s 33s/step - loss: 0.2706 - accuracy: 0.8997 - val_loss: 0.2407 - val_accuracy: 0.9104\n",
      "Epoch 5/10\n",
      "860/860 [==============================] - 52s 60ms/step - loss: 0.2511 - accuracy: 0.9057 - val_loss: 0.2278 - val_accuracy: 0.9130\n",
      "Epoch 6/10\n",
      "860/860 [==============================] - 57s 66ms/step - loss: 0.2338 - accuracy: 0.9120 - val_loss: 0.2259 - val_accuracy: 0.9146\n",
      "Epoch 7/10\n",
      "860/860 [==============================] - 58s 68ms/step - loss: 0.2226 - accuracy: 0.9164 - val_loss: 0.2099 - val_accuracy: 0.9234\n",
      "Epoch 8/10\n",
      "860/860 [==============================] - 58s 68ms/step - loss: 0.2079 - accuracy: 0.9209 - val_loss: 0.2082 - val_accuracy: 0.9236\n",
      "Epoch 9/10\n",
      "860/860 [==============================] - 58s 67ms/step - loss: 0.1963 - accuracy: 0.9256 - val_loss: 0.2094 - val_accuracy: 0.9240\n",
      "Epoch 10/10\n",
      "860/860 [==============================] - 56s 65ms/step - loss: 0.1890 - accuracy: 0.9274 - val_loss: 0.2116 - val_accuracy: 0.9204\n",
      "\n",
      " Test accuracy: 0.9174000024795532\n"
     ]
    }
   ],
   "source": [
    "params3 = [(64,5),(32,3),(0.3,0.3)]\n",
    "model_name = 'Architecture 3'\n",
    "test_score = getcnnresult(model_name,params3)\n",
    "results_dict[model_name] = {'parameters':params3 ,'accuracy':test_score}"
   ]
  },
  {
   "cell_type": "code",
   "execution_count": null,
   "id": "crude-rider",
   "metadata": {},
   "outputs": [],
   "source": []
  },
  {
   "cell_type": "markdown",
   "id": "ranging-deviation",
   "metadata": {},
   "source": [
    "### Combination of combinations of kernels for (3, 2)"
   ]
  },
  {
   "cell_type": "code",
   "execution_count": 18,
   "id": "exterior-lunch",
   "metadata": {},
   "outputs": [
    {
     "name": "stdout",
     "output_type": "stream",
     "text": [
      "Model Name: Architecture 4\n",
      "Model: \"sequential\"\n",
      "_________________________________________________________________\n",
      "Layer (type)                 Output Shape              Param #   \n",
      "=================================================================\n",
      "conv2d (Conv2D)              (None, 28, 28, 64)        640       \n",
      "_________________________________________________________________\n",
      "max_pooling2d (MaxPooling2D) (None, 14, 14, 64)        0         \n",
      "_________________________________________________________________\n",
      "dropout (Dropout)            (None, 14, 14, 64)        0         \n",
      "_________________________________________________________________\n",
      "conv2d_1 (Conv2D)            (None, 14, 14, 32)        8224      \n",
      "_________________________________________________________________\n",
      "max_pooling2d_1 (MaxPooling2 (None, 7, 7, 32)          0         \n",
      "_________________________________________________________________\n",
      "dropout_1 (Dropout)          (None, 7, 7, 32)          0         \n",
      "_________________________________________________________________\n",
      "flatten (Flatten)            (None, 1568)              0         \n",
      "_________________________________________________________________\n",
      "dense (Dense)                (None, 256)               401664    \n",
      "_________________________________________________________________\n",
      "dense_1 (Dense)              (None, 10)                2570      \n",
      "=================================================================\n",
      "Total params: 413,098\n",
      "Trainable params: 413,098\n",
      "Non-trainable params: 0\n",
      "_________________________________________________________________\n",
      "Epoch 1/10\n",
      "860/860 [==============================] - 42s 49ms/step - loss: 0.5308 - accuracy: 0.8049 - val_loss: 0.3526 - val_accuracy: 0.8784\n",
      "Epoch 2/10\n",
      "860/860 [==============================] - 43s 51ms/step - loss: 0.3652 - accuracy: 0.8658 - val_loss: 0.3100 - val_accuracy: 0.8892\n",
      "Epoch 3/10\n",
      "860/860 [==============================] - 41s 48ms/step - loss: 0.3145 - accuracy: 0.8843 - val_loss: 0.2556 - val_accuracy: 0.9056\n",
      "Epoch 4/10\n",
      "860/860 [==============================] - 42s 49ms/step - loss: 0.2842 - accuracy: 0.8943 - val_loss: 0.2452 - val_accuracy: 0.9108\n",
      "Epoch 5/10\n",
      "860/860 [==============================] - 42s 49ms/step - loss: 0.2603 - accuracy: 0.9031 - val_loss: 0.2301 - val_accuracy: 0.9172\n",
      "Epoch 6/10\n",
      "860/860 [==============================] - 44s 51ms/step - loss: 0.2463 - accuracy: 0.9085 - val_loss: 0.2275 - val_accuracy: 0.9170\n",
      "Epoch 7/10\n",
      "860/860 [==============================] - 43s 51ms/step - loss: 0.2340 - accuracy: 0.9114 - val_loss: 0.2298 - val_accuracy: 0.9124\n",
      "Epoch 8/10\n",
      "860/860 [==============================] - 45s 52ms/step - loss: 0.2193 - accuracy: 0.9174 - val_loss: 0.2137 - val_accuracy: 0.9196\n",
      "Epoch 9/10\n",
      "860/860 [==============================] - 46s 54ms/step - loss: 0.2092 - accuracy: 0.9208 - val_loss: 0.2060 - val_accuracy: 0.9244\n",
      "Epoch 10/10\n",
      "860/860 [==============================] - 43s 50ms/step - loss: 0.1987 - accuracy: 0.9255 - val_loss: 0.2083 - val_accuracy: 0.9206\n",
      "\n",
      " Test accuracy: 0.9164999723434448\n"
     ]
    }
   ],
   "source": [
    "params4 = [(64,3),(32,2),(0.3,0.3)]\n",
    "model_name = 'Architecture 4'\n",
    "test_score = getcnnresult(model_name,params4)\n",
    "results_dict[model_name] = {'parameters':params4 ,'accuracy':test_score}"
   ]
  },
  {
   "cell_type": "code",
   "execution_count": null,
   "id": "gorgeous-stupid",
   "metadata": {},
   "outputs": [],
   "source": []
  },
  {
   "cell_type": "markdown",
   "id": "simple-world",
   "metadata": {},
   "source": [
    "### Dropout probability values for (0.3, 0.25)"
   ]
  },
  {
   "cell_type": "code",
   "execution_count": 19,
   "id": "compact-implementation",
   "metadata": {},
   "outputs": [
    {
     "name": "stdout",
     "output_type": "stream",
     "text": [
      "Model Name: Architecture 5\n",
      "Model: \"sequential\"\n",
      "_________________________________________________________________\n",
      "Layer (type)                 Output Shape              Param #   \n",
      "=================================================================\n",
      "conv2d (Conv2D)              (None, 28, 28, 64)        320       \n",
      "_________________________________________________________________\n",
      "max_pooling2d (MaxPooling2D) (None, 14, 14, 64)        0         \n",
      "_________________________________________________________________\n",
      "dropout (Dropout)            (None, 14, 14, 64)        0         \n",
      "_________________________________________________________________\n",
      "conv2d_1 (Conv2D)            (None, 14, 14, 32)        8224      \n",
      "_________________________________________________________________\n",
      "max_pooling2d_1 (MaxPooling2 (None, 7, 7, 32)          0         \n",
      "_________________________________________________________________\n",
      "dropout_1 (Dropout)          (None, 7, 7, 32)          0         \n",
      "_________________________________________________________________\n",
      "flatten (Flatten)            (None, 1568)              0         \n",
      "_________________________________________________________________\n",
      "dense (Dense)                (None, 256)               401664    \n",
      "_________________________________________________________________\n",
      "dense_1 (Dense)              (None, 10)                2570      \n",
      "=================================================================\n",
      "Total params: 412,778\n",
      "Trainable params: 412,778\n",
      "Non-trainable params: 0\n",
      "_________________________________________________________________\n",
      "Epoch 1/10\n",
      "860/860 [==============================] - 43s 50ms/step - loss: 0.5142 - accuracy: 0.8148 - val_loss: 0.3474 - val_accuracy: 0.8834\n",
      "Epoch 2/10\n",
      "860/860 [==============================] - 44s 51ms/step - loss: 0.3552 - accuracy: 0.8720 - val_loss: 0.2939 - val_accuracy: 0.8938\n",
      "Epoch 3/10\n",
      "860/860 [==============================] - 45s 53ms/step - loss: 0.3067 - accuracy: 0.8872 - val_loss: 0.2949 - val_accuracy: 0.8918\n",
      "Epoch 4/10\n",
      "860/860 [==============================] - 40s 47ms/step - loss: 0.2769 - accuracy: 0.8974 - val_loss: 0.2531 - val_accuracy: 0.9078\n",
      "Epoch 5/10\n",
      "860/860 [==============================] - 40s 46ms/step - loss: 0.2585 - accuracy: 0.9044 - val_loss: 0.2530 - val_accuracy: 0.9064\n",
      "Epoch 6/10\n",
      "860/860 [==============================] - 41s 47ms/step - loss: 0.2428 - accuracy: 0.9098 - val_loss: 0.2363 - val_accuracy: 0.9102\n",
      "Epoch 7/10\n",
      "860/860 [==============================] - 42s 49ms/step - loss: 0.2249 - accuracy: 0.9161 - val_loss: 0.2286 - val_accuracy: 0.9160\n",
      "Epoch 8/10\n",
      "860/860 [==============================] - 41s 48ms/step - loss: 0.2146 - accuracy: 0.9189 - val_loss: 0.2173 - val_accuracy: 0.9226\n",
      "Epoch 9/10\n",
      "860/860 [==============================] - 44s 51ms/step - loss: 0.2032 - accuracy: 0.9239 - val_loss: 0.2318 - val_accuracy: 0.9108\n",
      "Epoch 10/10\n",
      "860/860 [==============================] - 43s 50ms/step - loss: 0.1920 - accuracy: 0.9279 - val_loss: 0.2215 - val_accuracy: 0.9176\n",
      "\n",
      " Test accuracy: 0.914900004863739\n"
     ]
    }
   ],
   "source": [
    "params5 = [(64,2),(32,2),(0.3,0.25)]\n",
    "model_name = 'Architecture 5'\n",
    "test_score = getcnnresult(model_name,params5)\n",
    "results_dict[model_name] = {'parameters':params5 ,'accuracy':test_score}"
   ]
  },
  {
   "cell_type": "code",
   "execution_count": null,
   "id": "primary-result",
   "metadata": {},
   "outputs": [],
   "source": []
  },
  {
   "cell_type": "markdown",
   "id": "rental-impact",
   "metadata": {},
   "source": [
    "### Dropout probability values for (0.25, 0.25)"
   ]
  },
  {
   "cell_type": "code",
   "execution_count": 20,
   "id": "light-ranch",
   "metadata": {},
   "outputs": [
    {
     "name": "stdout",
     "output_type": "stream",
     "text": [
      "Model Name: Architecture 6\n",
      "Model: \"sequential\"\n",
      "_________________________________________________________________\n",
      "Layer (type)                 Output Shape              Param #   \n",
      "=================================================================\n",
      "conv2d (Conv2D)              (None, 28, 28, 64)        320       \n",
      "_________________________________________________________________\n",
      "max_pooling2d (MaxPooling2D) (None, 14, 14, 64)        0         \n",
      "_________________________________________________________________\n",
      "dropout (Dropout)            (None, 14, 14, 64)        0         \n",
      "_________________________________________________________________\n",
      "conv2d_1 (Conv2D)            (None, 14, 14, 32)        8224      \n",
      "_________________________________________________________________\n",
      "max_pooling2d_1 (MaxPooling2 (None, 7, 7, 32)          0         \n",
      "_________________________________________________________________\n",
      "dropout_1 (Dropout)          (None, 7, 7, 32)          0         \n",
      "_________________________________________________________________\n",
      "flatten (Flatten)            (None, 1568)              0         \n",
      "_________________________________________________________________\n",
      "dense (Dense)                (None, 256)               401664    \n",
      "_________________________________________________________________\n",
      "dense_1 (Dense)              (None, 10)                2570      \n",
      "=================================================================\n",
      "Total params: 412,778\n",
      "Trainable params: 412,778\n",
      "Non-trainable params: 0\n",
      "_________________________________________________________________\n",
      "Epoch 1/10\n",
      "860/860 [==============================] - 45s 52ms/step - loss: 0.5116 - accuracy: 0.8133 - val_loss: 0.3901 - val_accuracy: 0.8596\n",
      "Epoch 2/10\n",
      "860/860 [==============================] - 43s 50ms/step - loss: 0.3586 - accuracy: 0.8709 - val_loss: 0.3031 - val_accuracy: 0.8926\n",
      "Epoch 3/10\n",
      "860/860 [==============================] - 43s 50ms/step - loss: 0.3100 - accuracy: 0.8861 - val_loss: 0.2732 - val_accuracy: 0.9028\n",
      "Epoch 4/10\n",
      "860/860 [==============================] - 40s 46ms/step - loss: 0.2814 - accuracy: 0.8962 - val_loss: 0.2595 - val_accuracy: 0.9062\n",
      "Epoch 5/10\n",
      "860/860 [==============================] - 44s 52ms/step - loss: 0.2613 - accuracy: 0.9035 - val_loss: 0.2409 - val_accuracy: 0.9126\n",
      "Epoch 6/10\n",
      "860/860 [==============================] - 41s 48ms/step - loss: 0.2434 - accuracy: 0.9096 - val_loss: 0.2316 - val_accuracy: 0.9134\n",
      "Epoch 7/10\n",
      "860/860 [==============================] - 41s 47ms/step - loss: 0.2281 - accuracy: 0.9155 - val_loss: 0.2326 - val_accuracy: 0.9156\n",
      "Epoch 8/10\n",
      "860/860 [==============================] - 42s 49ms/step - loss: 0.2159 - accuracy: 0.9185 - val_loss: 0.2154 - val_accuracy: 0.9218\n",
      "Epoch 9/10\n",
      "860/860 [==============================] - 41s 47ms/step - loss: 0.2040 - accuracy: 0.9234 - val_loss: 0.2241 - val_accuracy: 0.9160\n",
      "Epoch 10/10\n",
      "860/860 [==============================] - 40s 46ms/step - loss: 0.1922 - accuracy: 0.9278 - val_loss: 0.2164 - val_accuracy: 0.9218\n",
      "\n",
      " Test accuracy: 0.9154000282287598\n"
     ]
    }
   ],
   "source": [
    "params6 = [(64,2),(32,2),(0.25,0.25)]\n",
    "model_name = 'Architecture 6'\n",
    "test_score = getcnnresult(model_name,params6)\n",
    "results_dict[model_name] = {'parameters':params6 ,'accuracy':test_score}"
   ]
  },
  {
   "cell_type": "markdown",
   "id": "facial-trial",
   "metadata": {},
   "source": [
    "### Extra layer for [(64,2),(32,2), (0.3,0.3)]"
   ]
  },
  {
   "cell_type": "code",
   "execution_count": 24,
   "id": "mature-entity",
   "metadata": {},
   "outputs": [
    {
     "name": "stdout",
     "output_type": "stream",
     "text": [
      "Model Name: Architecture 7(extra layer)\n",
      "Model: \"sequential\"\n",
      "_________________________________________________________________\n",
      "Layer (type)                 Output Shape              Param #   \n",
      "=================================================================\n",
      "conv2d (Conv2D)              (None, 28, 28, 64)        320       \n",
      "_________________________________________________________________\n",
      "max_pooling2d (MaxPooling2D) (None, 14, 14, 64)        0         \n",
      "_________________________________________________________________\n",
      "dropout (Dropout)            (None, 14, 14, 64)        0         \n",
      "_________________________________________________________________\n",
      "conv2d_1 (Conv2D)            (None, 14, 14, 32)        8224      \n",
      "_________________________________________________________________\n",
      "max_pooling2d_1 (MaxPooling2 (None, 7, 7, 32)          0         \n",
      "_________________________________________________________________\n",
      "dropout_1 (Dropout)          (None, 7, 7, 32)          0         \n",
      "_________________________________________________________________\n",
      "conv2d_2 (Conv2D)            (None, 7, 7, 64)          8256      \n",
      "_________________________________________________________________\n",
      "max_pooling2d_2 (MaxPooling2 (None, 3, 3, 64)          0         \n",
      "_________________________________________________________________\n",
      "dropout_2 (Dropout)          (None, 3, 3, 64)          0         \n",
      "_________________________________________________________________\n",
      "conv2d_3 (Conv2D)            (None, 3, 3, 32)          8224      \n",
      "_________________________________________________________________\n",
      "max_pooling2d_3 (MaxPooling2 (None, 1, 1, 32)          0         \n",
      "_________________________________________________________________\n",
      "dropout_3 (Dropout)          (None, 1, 1, 32)          0         \n",
      "_________________________________________________________________\n",
      "flatten (Flatten)            (None, 32)                0         \n",
      "_________________________________________________________________\n",
      "dense (Dense)                (None, 256)               8448      \n",
      "_________________________________________________________________\n",
      "dense_1 (Dense)              (None, 10)                2570      \n",
      "=================================================================\n",
      "Total params: 36,042\n",
      "Trainable params: 36,042\n",
      "Non-trainable params: 0\n",
      "_________________________________________________________________\n",
      "Epoch 1/10\n",
      "860/860 [==============================] - 40s 47ms/step - loss: 1.0658 - accuracy: 0.5796 - val_loss: 0.6648 - val_accuracy: 0.7394\n",
      "Epoch 2/10\n",
      "860/860 [==============================] - 40s 47ms/step - loss: 0.7120 - accuracy: 0.7263 - val_loss: 0.5208 - val_accuracy: 0.8052\n",
      "Epoch 3/10\n",
      "860/860 [==============================] - 40s 47ms/step - loss: 0.6256 - accuracy: 0.7624 - val_loss: 0.4895 - val_accuracy: 0.8330\n",
      "Epoch 4/10\n",
      "860/860 [==============================] - 40s 47ms/step - loss: 0.5762 - accuracy: 0.7858 - val_loss: 0.4496 - val_accuracy: 0.8352\n",
      "Epoch 5/10\n",
      "860/860 [==============================] - 45s 53ms/step - loss: 0.5422 - accuracy: 0.7981 - val_loss: 0.4145 - val_accuracy: 0.8516\n",
      "Epoch 6/10\n",
      "860/860 [==============================] - 45s 53ms/step - loss: 0.5118 - accuracy: 0.8095 - val_loss: 0.3842 - val_accuracy: 0.8618\n",
      "Epoch 7/10\n",
      "860/860 [==============================] - 45s 53ms/step - loss: 0.4896 - accuracy: 0.8187 - val_loss: 0.3636 - val_accuracy: 0.8714\n",
      "Epoch 8/10\n",
      "860/860 [==============================] - 45s 52ms/step - loss: 0.4705 - accuracy: 0.8251 - val_loss: 0.3663 - val_accuracy: 0.8690\n",
      "Epoch 9/10\n",
      "860/860 [==============================] - 46s 54ms/step - loss: 0.4621 - accuracy: 0.8301 - val_loss: 0.3752 - val_accuracy: 0.8702\n",
      "Epoch 10/10\n",
      "860/860 [==============================] - 46s 53ms/step - loss: 0.4438 - accuracy: 0.8370 - val_loss: 0.3446 - val_accuracy: 0.8796\n",
      "\n",
      " Test accuracy: 0.8741999864578247\n"
     ]
    }
   ],
   "source": [
    "params7 = [(64,2),(32,2), (0.3,0.3)]\n",
    "model_name = 'Architecture 7(extra layer)'\n",
    "test_score = getcnnresult(model_name,base_params,params7)\n",
    "results_dict[model_name] = {'parameters':params7 ,'accuracy':test_score}"
   ]
  },
  {
   "cell_type": "code",
   "execution_count": 23,
   "id": "falling-skiing",
   "metadata": {},
   "outputs": [],
   "source": [
    "results_dict[model_name] = {'parameters':params7 ,'accuracy':test_score}"
   ]
  },
  {
   "cell_type": "markdown",
   "id": "canadian-paste",
   "metadata": {},
   "source": [
    "接下来是4个 architectures with multiple simultaneous modifications"
   ]
  },
  {
   "cell_type": "markdown",
   "id": "stopped-bridge",
   "metadata": {},
   "source": [
    "### [(32,2),(16,2),(0.3,0.3)]"
   ]
  },
  {
   "cell_type": "code",
   "execution_count": 25,
   "id": "partial-duplicate",
   "metadata": {},
   "outputs": [
    {
     "name": "stdout",
     "output_type": "stream",
     "text": [
      "Model Name: Architecture 8\n",
      "Model: \"sequential\"\n",
      "_________________________________________________________________\n",
      "Layer (type)                 Output Shape              Param #   \n",
      "=================================================================\n",
      "conv2d (Conv2D)              (None, 28, 28, 32)        160       \n",
      "_________________________________________________________________\n",
      "max_pooling2d (MaxPooling2D) (None, 14, 14, 32)        0         \n",
      "_________________________________________________________________\n",
      "dropout (Dropout)            (None, 14, 14, 32)        0         \n",
      "_________________________________________________________________\n",
      "conv2d_1 (Conv2D)            (None, 14, 14, 16)        2064      \n",
      "_________________________________________________________________\n",
      "max_pooling2d_1 (MaxPooling2 (None, 7, 7, 16)          0         \n",
      "_________________________________________________________________\n",
      "dropout_1 (Dropout)          (None, 7, 7, 16)          0         \n",
      "_________________________________________________________________\n",
      "flatten (Flatten)            (None, 784)               0         \n",
      "_________________________________________________________________\n",
      "dense (Dense)                (None, 256)               200960    \n",
      "_________________________________________________________________\n",
      "dense_1 (Dense)              (None, 10)                2570      \n",
      "=================================================================\n",
      "Total params: 205,754\n",
      "Trainable params: 205,754\n",
      "Non-trainable params: 0\n",
      "_________________________________________________________________\n",
      "Epoch 1/10\n",
      "860/860 [==============================] - 24s 28ms/step - loss: 0.5970 - accuracy: 0.7796 - val_loss: 0.3971 - val_accuracy: 0.8612\n",
      "Epoch 2/10\n",
      "860/860 [==============================] - 24s 27ms/step - loss: 0.4210 - accuracy: 0.8470 - val_loss: 0.3416 - val_accuracy: 0.8822\n",
      "Epoch 3/10\n",
      "860/860 [==============================] - 24s 28ms/step - loss: 0.3714 - accuracy: 0.8632 - val_loss: 0.3074 - val_accuracy: 0.8904\n",
      "Epoch 4/10\n",
      "860/860 [==============================] - 23s 26ms/step - loss: 0.3441 - accuracy: 0.8729 - val_loss: 0.2893 - val_accuracy: 0.8962\n",
      "Epoch 5/10\n",
      "860/860 [==============================] - 23s 27ms/step - loss: 0.3229 - accuracy: 0.8820 - val_loss: 0.2869 - val_accuracy: 0.8918\n",
      "Epoch 6/10\n",
      "860/860 [==============================] - 24s 28ms/step - loss: 0.3030 - accuracy: 0.8876 - val_loss: 0.2721 - val_accuracy: 0.9006\n",
      "Epoch 7/10\n",
      "860/860 [==============================] - 24s 28ms/step - loss: 0.2926 - accuracy: 0.8911 - val_loss: 0.2579 - val_accuracy: 0.9092\n",
      "Epoch 8/10\n",
      "860/860 [==============================] - 23s 27ms/step - loss: 0.2783 - accuracy: 0.8964 - val_loss: 0.2614 - val_accuracy: 0.9052\n",
      "Epoch 9/10\n",
      "860/860 [==============================] - 25s 29ms/step - loss: 0.2705 - accuracy: 0.9003 - val_loss: 0.2470 - val_accuracy: 0.9096\n",
      "Epoch 10/10\n",
      "860/860 [==============================] - 24s 28ms/step - loss: 0.2577 - accuracy: 0.9042 - val_loss: 0.2371 - val_accuracy: 0.9118\n",
      "\n",
      " Test accuracy: 0.9042999744415283\n"
     ]
    }
   ],
   "source": [
    "params8 = [(32,2),(16,2),(0.3,0.3)]\n",
    "model_name = 'Architecture 8'\n",
    "test_score = getcnnresult(model_name,params8)\n",
    "results_dict[model_name] = {'parameters':params8 ,'accuracy':test_score}"
   ]
  },
  {
   "cell_type": "code",
   "execution_count": null,
   "id": "distant-inventory",
   "metadata": {},
   "outputs": [],
   "source": []
  },
  {
   "cell_type": "markdown",
   "id": "hollywood-following",
   "metadata": {},
   "source": [
    "### [(32,5),(16,5),(0.2,0.2)]"
   ]
  },
  {
   "cell_type": "code",
   "execution_count": 26,
   "id": "hollywood-explorer",
   "metadata": {},
   "outputs": [
    {
     "name": "stdout",
     "output_type": "stream",
     "text": [
      "Model Name: Architecture 9\n",
      "Model: \"sequential\"\n",
      "_________________________________________________________________\n",
      "Layer (type)                 Output Shape              Param #   \n",
      "=================================================================\n",
      "conv2d (Conv2D)              (None, 28, 28, 32)        832       \n",
      "_________________________________________________________________\n",
      "max_pooling2d (MaxPooling2D) (None, 14, 14, 32)        0         \n",
      "_________________________________________________________________\n",
      "dropout (Dropout)            (None, 14, 14, 32)        0         \n",
      "_________________________________________________________________\n",
      "conv2d_1 (Conv2D)            (None, 14, 14, 16)        12816     \n",
      "_________________________________________________________________\n",
      "max_pooling2d_1 (MaxPooling2 (None, 7, 7, 16)          0         \n",
      "_________________________________________________________________\n",
      "dropout_1 (Dropout)          (None, 7, 7, 16)          0         \n",
      "_________________________________________________________________\n",
      "flatten (Flatten)            (None, 784)               0         \n",
      "_________________________________________________________________\n",
      "dense (Dense)                (None, 256)               200960    \n",
      "_________________________________________________________________\n",
      "dense_1 (Dense)              (None, 10)                2570      \n",
      "=================================================================\n",
      "Total params: 217,178\n",
      "Trainable params: 217,178\n",
      "Non-trainable params: 0\n",
      "_________________________________________________________________\n",
      "Epoch 1/10\n",
      "860/860 [==============================] - 44s 52ms/step - loss: 0.5239 - accuracy: 0.8102 - val_loss: 0.3640 - val_accuracy: 0.8646\n",
      "Epoch 2/10\n",
      "860/860 [==============================] - 45s 52ms/step - loss: 0.3485 - accuracy: 0.8740 - val_loss: 0.2931 - val_accuracy: 0.8936\n",
      "Epoch 3/10\n",
      "860/860 [==============================] - 46s 53ms/step - loss: 0.3024 - accuracy: 0.8885 - val_loss: 0.2583 - val_accuracy: 0.9048\n",
      "Epoch 4/10\n",
      "860/860 [==============================] - 47s 54ms/step - loss: 0.2774 - accuracy: 0.8967 - val_loss: 0.2477 - val_accuracy: 0.9070\n",
      "Epoch 5/10\n",
      "860/860 [==============================] - 46s 54ms/step - loss: 0.2567 - accuracy: 0.9047 - val_loss: 0.2383 - val_accuracy: 0.9132\n",
      "Epoch 6/10\n",
      "860/860 [==============================] - 46s 53ms/step - loss: 0.2425 - accuracy: 0.9090 - val_loss: 0.2397 - val_accuracy: 0.9142\n",
      "Epoch 7/10\n",
      "860/860 [==============================] - 46s 54ms/step - loss: 0.2302 - accuracy: 0.9133 - val_loss: 0.2216 - val_accuracy: 0.9200\n",
      "Epoch 8/10\n",
      "860/860 [==============================] - 48s 56ms/step - loss: 0.2166 - accuracy: 0.9184 - val_loss: 0.2257 - val_accuracy: 0.9170\n",
      "Epoch 9/10\n",
      "860/860 [==============================] - 46s 53ms/step - loss: 0.2057 - accuracy: 0.9212 - val_loss: 0.2101 - val_accuracy: 0.9232\n",
      "Epoch 10/10\n",
      "860/860 [==============================] - 46s 54ms/step - loss: 0.1951 - accuracy: 0.9263 - val_loss: 0.2083 - val_accuracy: 0.9236\n",
      "\n",
      " Test accuracy: 0.9175000190734863\n"
     ]
    }
   ],
   "source": [
    "params9 = [(32,5),(16,5),(0.2,0.2)]\n",
    "model_name = 'Architecture 9'\n",
    "test_score = getcnnresult(model_name,params9)\n",
    "results_dict[model_name] = {'parameters':params9 ,'accuracy':test_score}"
   ]
  },
  {
   "cell_type": "code",
   "execution_count": null,
   "id": "solved-acting",
   "metadata": {},
   "outputs": [],
   "source": []
  },
  {
   "cell_type": "markdown",
   "id": "brown-contamination",
   "metadata": {},
   "source": [
    "### [(128,2),(64,2),(0.3,0.3)]"
   ]
  },
  {
   "cell_type": "code",
   "execution_count": 27,
   "id": "honest-valuation",
   "metadata": {
    "scrolled": true
   },
   "outputs": [
    {
     "name": "stdout",
     "output_type": "stream",
     "text": [
      "Model Name: Architecture 10\n",
      "Model: \"sequential\"\n",
      "_________________________________________________________________\n",
      "Layer (type)                 Output Shape              Param #   \n",
      "=================================================================\n",
      "conv2d (Conv2D)              (None, 28, 28, 128)       640       \n",
      "_________________________________________________________________\n",
      "max_pooling2d (MaxPooling2D) (None, 14, 14, 128)       0         \n",
      "_________________________________________________________________\n",
      "dropout (Dropout)            (None, 14, 14, 128)       0         \n",
      "_________________________________________________________________\n",
      "conv2d_1 (Conv2D)            (None, 14, 14, 64)        32832     \n",
      "_________________________________________________________________\n",
      "max_pooling2d_1 (MaxPooling2 (None, 7, 7, 64)          0         \n",
      "_________________________________________________________________\n",
      "dropout_1 (Dropout)          (None, 7, 7, 64)          0         \n",
      "_________________________________________________________________\n",
      "flatten (Flatten)            (None, 3136)              0         \n",
      "_________________________________________________________________\n",
      "dense (Dense)                (None, 256)               803072    \n",
      "_________________________________________________________________\n",
      "dense_1 (Dense)              (None, 10)                2570      \n",
      "=================================================================\n",
      "Total params: 839,114\n",
      "Trainable params: 839,114\n",
      "Non-trainable params: 0\n",
      "_________________________________________________________________\n",
      "Epoch 1/10\n",
      "860/860 [==============================] - 86s 100ms/step - loss: 0.4903 - accuracy: 0.8207 - val_loss: 0.3146 - val_accuracy: 0.8920\n",
      "Epoch 2/10\n",
      "860/860 [==============================] - 88s 102ms/step - loss: 0.3246 - accuracy: 0.8819 - val_loss: 0.2689 - val_accuracy: 0.9020\n",
      "Epoch 3/10\n",
      "860/860 [==============================] - 86s 101ms/step - loss: 0.2794 - accuracy: 0.8970 - val_loss: 0.2547 - val_accuracy: 0.9056\n",
      "Epoch 4/10\n",
      "860/860 [==============================] - 205s 239ms/step - loss: 0.2511 - accuracy: 0.9083 - val_loss: 0.2328 - val_accuracy: 0.9156\n",
      "Epoch 5/10\n",
      "860/860 [==============================] - 89s 103ms/step - loss: 0.2286 - accuracy: 0.9144 - val_loss: 0.2179 - val_accuracy: 0.9216\n",
      "Epoch 6/10\n",
      "860/860 [==============================] - 90s 104ms/step - loss: 0.2127 - accuracy: 0.9204 - val_loss: 0.2113 - val_accuracy: 0.9210\n",
      "Epoch 7/10\n",
      "860/860 [==============================] - 92s 107ms/step - loss: 0.1944 - accuracy: 0.9269 - val_loss: 0.2292 - val_accuracy: 0.9174\n",
      "Epoch 8/10\n",
      "860/860 [==============================] - 85s 99ms/step - loss: 0.1795 - accuracy: 0.9325 - val_loss: 0.2158 - val_accuracy: 0.9206\n",
      "Epoch 9/10\n",
      "860/860 [==============================] - 85s 99ms/step - loss: 0.1662 - accuracy: 0.9376 - val_loss: 0.2150 - val_accuracy: 0.9182\n",
      "Epoch 10/10\n",
      "860/860 [==============================] - 85s 99ms/step - loss: 0.1543 - accuracy: 0.9424 - val_loss: 0.2070 - val_accuracy: 0.9246\n",
      "\n",
      " Test accuracy: 0.9218999743461609\n"
     ]
    }
   ],
   "source": [
    "params10 = [(128,2),(64,2),(0.3,0.3)]\n",
    "model_name = 'Architecture 10'\n",
    "test_score = getcnnresult(model_name,params10)\n",
    "results_dict[model_name] = {'parameters':params10 ,'accuracy':test_score}"
   ]
  },
  {
   "cell_type": "markdown",
   "id": "stuck-departure",
   "metadata": {},
   "source": [
    "### [(128,3),(64,3),(0.3,0.3),(3,3)]"
   ]
  },
  {
   "cell_type": "code",
   "execution_count": 29,
   "id": "hired-destruction",
   "metadata": {},
   "outputs": [
    {
     "name": "stdout",
     "output_type": "stream",
     "text": [
      "Model Name: Architecture 11\n",
      "Model: \"sequential\"\n",
      "_________________________________________________________________\n",
      "Layer (type)                 Output Shape              Param #   \n",
      "=================================================================\n",
      "conv2d (Conv2D)              (None, 28, 28, 128)       1280      \n",
      "_________________________________________________________________\n",
      "max_pooling2d (MaxPooling2D) (None, 9, 9, 128)         0         \n",
      "_________________________________________________________________\n",
      "dropout (Dropout)            (None, 9, 9, 128)         0         \n",
      "_________________________________________________________________\n",
      "conv2d_1 (Conv2D)            (None, 9, 9, 64)          73792     \n",
      "_________________________________________________________________\n",
      "max_pooling2d_1 (MaxPooling2 (None, 3, 3, 64)          0         \n",
      "_________________________________________________________________\n",
      "dropout_1 (Dropout)          (None, 3, 3, 64)          0         \n",
      "_________________________________________________________________\n",
      "flatten (Flatten)            (None, 576)               0         \n",
      "_________________________________________________________________\n",
      "dense (Dense)                (None, 256)               147712    \n",
      "_________________________________________________________________\n",
      "dense_1 (Dense)              (None, 10)                2570      \n",
      "=================================================================\n",
      "Total params: 225,354\n",
      "Trainable params: 225,354\n",
      "Non-trainable params: 0\n",
      "_________________________________________________________________\n",
      "Epoch 1/10\n",
      "860/860 [==============================] - 60s 70ms/step - loss: 0.5695 - accuracy: 0.7924 - val_loss: 0.3565 - val_accuracy: 0.8716\n",
      "Epoch 2/10\n",
      "860/860 [==============================] - 62s 72ms/step - loss: 0.3716 - accuracy: 0.8642 - val_loss: 0.2842 - val_accuracy: 0.8964\n",
      "Epoch 3/10\n",
      "860/860 [==============================] - 63s 73ms/step - loss: 0.3273 - accuracy: 0.8799 - val_loss: 0.2843 - val_accuracy: 0.8964\n",
      "Epoch 4/10\n",
      "860/860 [==============================] - 64s 75ms/step - loss: 0.2979 - accuracy: 0.8895 - val_loss: 0.2652 - val_accuracy: 0.9012\n",
      "Epoch 5/10\n",
      "860/860 [==============================] - 64s 75ms/step - loss: 0.2756 - accuracy: 0.8981 - val_loss: 0.2543 - val_accuracy: 0.9052\n",
      "Epoch 6/10\n",
      "860/860 [==============================] - 64s 75ms/step - loss: 0.2606 - accuracy: 0.9027 - val_loss: 0.2366 - val_accuracy: 0.9116\n",
      "Epoch 7/10\n",
      "860/860 [==============================] - 65s 75ms/step - loss: 0.2524 - accuracy: 0.9063 - val_loss: 0.2332 - val_accuracy: 0.9116\n",
      "Epoch 8/10\n",
      "860/860 [==============================] - 65s 75ms/step - loss: 0.2388 - accuracy: 0.9107 - val_loss: 0.2231 - val_accuracy: 0.9178\n",
      "Epoch 9/10\n",
      "860/860 [==============================] - 65s 76ms/step - loss: 0.2346 - accuracy: 0.9113 - val_loss: 0.2203 - val_accuracy: 0.9170\n",
      "Epoch 10/10\n",
      "860/860 [==============================] - 65s 76ms/step - loss: 0.2234 - accuracy: 0.9158 - val_loss: 0.2141 - val_accuracy: 0.9204\n",
      "\n",
      " Test accuracy: 0.9128000140190125\n"
     ]
    }
   ],
   "source": [
    "params11 = [(128,3),(64,3),(0.3,0.3)]\n",
    "model_name = 'Architecture 11'\n",
    "test_score = getcnnresult(model_name,params11,kernels_poolings = (3,3))\n",
    "params11.append((3,3))\n",
    "results_dict[model_name] = {'parameters':params11 ,'accuracy':test_score}"
   ]
  },
  {
   "cell_type": "code",
   "execution_count": 30,
   "id": "divided-savage",
   "metadata": {},
   "outputs": [
    {
     "data": {
      "text/html": [
       "<div>\n",
       "<style scoped>\n",
       "    .dataframe tbody tr th:only-of-type {\n",
       "        vertical-align: middle;\n",
       "    }\n",
       "\n",
       "    .dataframe tbody tr th {\n",
       "        vertical-align: top;\n",
       "    }\n",
       "\n",
       "    .dataframe thead th {\n",
       "        text-align: right;\n",
       "    }\n",
       "</style>\n",
       "<table border=\"1\" class=\"dataframe\">\n",
       "  <thead>\n",
       "    <tr style=\"text-align: right;\">\n",
       "      <th></th>\n",
       "      <th>parameters</th>\n",
       "      <th>accuracy</th>\n",
       "    </tr>\n",
       "  </thead>\n",
       "  <tbody>\n",
       "    <tr>\n",
       "      <th>baseline</th>\n",
       "      <td>[(64, 2), (32, 2), (0.3, 0.3)]</td>\n",
       "      <td>0.9149</td>\n",
       "    </tr>\n",
       "    <tr>\n",
       "      <th>Architecture 1</th>\n",
       "      <td>[(32, 2), (16, 2), (0.3, 0.3)]</td>\n",
       "      <td>0.904</td>\n",
       "    </tr>\n",
       "    <tr>\n",
       "      <th>Architecture 2</th>\n",
       "      <td>[(64, 2), (64, 2), (0.3, 0.3)]</td>\n",
       "      <td>0.9182</td>\n",
       "    </tr>\n",
       "    <tr>\n",
       "      <th>Architecture 3</th>\n",
       "      <td>[(64, 5), (32, 3), (0.3, 0.3)]</td>\n",
       "      <td>0.9174</td>\n",
       "    </tr>\n",
       "    <tr>\n",
       "      <th>Architecture 4</th>\n",
       "      <td>[(64, 3), (32, 2), (0.3, 0.3)]</td>\n",
       "      <td>0.9165</td>\n",
       "    </tr>\n",
       "    <tr>\n",
       "      <th>Architecture 5</th>\n",
       "      <td>[(64, 2), (32, 2), (0.3, 0.25)]</td>\n",
       "      <td>0.9149</td>\n",
       "    </tr>\n",
       "    <tr>\n",
       "      <th>Architecture 6</th>\n",
       "      <td>[(64, 2), (32, 2), (0.25, 0.25)]</td>\n",
       "      <td>0.9154</td>\n",
       "    </tr>\n",
       "    <tr>\n",
       "      <th>Architecture 7(extra layer)</th>\n",
       "      <td>[(64, 2), (32, 2), (0.3, 0.3)]</td>\n",
       "      <td>0.8742</td>\n",
       "    </tr>\n",
       "    <tr>\n",
       "      <th>Architecture 8</th>\n",
       "      <td>[(32, 2), (16, 2), (0.3, 0.3)]</td>\n",
       "      <td>0.9043</td>\n",
       "    </tr>\n",
       "    <tr>\n",
       "      <th>Architecture 9</th>\n",
       "      <td>[(32, 5), (16, 5), (0.2, 0.2)]</td>\n",
       "      <td>0.9175</td>\n",
       "    </tr>\n",
       "    <tr>\n",
       "      <th>Architecture 10</th>\n",
       "      <td>[(128, 2), (64, 2), (0.3, 0.3)]</td>\n",
       "      <td>0.9219</td>\n",
       "    </tr>\n",
       "    <tr>\n",
       "      <th>Architecture 11</th>\n",
       "      <td>[(128, 3), (64, 3), (0.3, 0.3), (3, 3)]</td>\n",
       "      <td>0.9128</td>\n",
       "    </tr>\n",
       "  </tbody>\n",
       "</table>\n",
       "</div>"
      ],
      "text/plain": [
       "                                                          parameters accuracy\n",
       "baseline                              [(64, 2), (32, 2), (0.3, 0.3)]   0.9149\n",
       "Architecture 1                        [(32, 2), (16, 2), (0.3, 0.3)]    0.904\n",
       "Architecture 2                        [(64, 2), (64, 2), (0.3, 0.3)]   0.9182\n",
       "Architecture 3                        [(64, 5), (32, 3), (0.3, 0.3)]   0.9174\n",
       "Architecture 4                        [(64, 3), (32, 2), (0.3, 0.3)]   0.9165\n",
       "Architecture 5                       [(64, 2), (32, 2), (0.3, 0.25)]   0.9149\n",
       "Architecture 6                      [(64, 2), (32, 2), (0.25, 0.25)]   0.9154\n",
       "Architecture 7(extra layer)           [(64, 2), (32, 2), (0.3, 0.3)]   0.8742\n",
       "Architecture 8                        [(32, 2), (16, 2), (0.3, 0.3)]   0.9043\n",
       "Architecture 9                        [(32, 5), (16, 5), (0.2, 0.2)]   0.9175\n",
       "Architecture 10                      [(128, 2), (64, 2), (0.3, 0.3)]   0.9219\n",
       "Architecture 11              [(128, 3), (64, 3), (0.3, 0.3), (3, 3)]   0.9128"
      ]
     },
     "execution_count": 30,
     "metadata": {},
     "output_type": "execute_result"
    }
   ],
   "source": [
    "# 最终结果表\n",
    "import pandas as pd\n",
    "results = pd.DataFrame(results_dict).T\n",
    "results"
   ]
  },
  {
   "cell_type": "code",
   "execution_count": null,
   "id": "alike-authentication",
   "metadata": {},
   "outputs": [],
   "source": []
  }
 ],
 "metadata": {
  "kernelspec": {
   "display_name": "Python 3",
   "language": "python",
   "name": "python3"
  },
  "language_info": {
   "codemirror_mode": {
    "name": "ipython",
    "version": 3
   },
   "file_extension": ".py",
   "mimetype": "text/x-python",
   "name": "python",
   "nbconvert_exporter": "python",
   "pygments_lexer": "ipython3",
   "version": "3.8.8"
  }
 },
 "nbformat": 4,
 "nbformat_minor": 5
}
